{
 "cells": [
  {
   "cell_type": "code",
   "execution_count": 65,
   "metadata": {},
   "outputs": [],
   "source": [
    "from flask import Flask, render_template, request, redirect, url_for\n",
    "from litellm import completion\n",
    "import docx\n",
    "from langchain_community.llms import Ollama\n",
    "from langchain_community.document_loaders import PyPDFLoader\n",
    "from langchain_community.embeddings import OllamaEmbeddings\n",
    "from langchain_community.vectorstores import Chroma\n",
    "from langchain.chains import RetrievalQA\n",
    "from langchain.text_splitter import CharacterTextSplitter\n",
    "from langchain.docstore.document import Document"
   ]
  },
  {
   "cell_type": "code",
   "execution_count": 66,
   "metadata": {},
   "outputs": [],
   "source": [
    "# Initialisation de l'instance Ollama\n",
    "ollama = Ollama(base_url='http://localhost:11434', model=\"llama2\")\n",
    "oembed = OllamaEmbeddings(base_url=\"http://localhost:11434\", model=\"llama2\")\n",
    "\n",
    "vectorstore = None  # Variable globale pour stocker vectorstore\n",
    "documents = []  # Variable globale pour stocker les documents"
   ]
  },
  {
   "cell_type": "code",
   "execution_count": 67,
   "metadata": {},
   "outputs": [],
   "source": [
    "def read_docx(file):\n",
    "    doc = docx.Document(file)\n",
    "    full_text = []\n",
    "    for para in doc.paragraphs:\n",
    "        full_text.append(para.text)\n",
    "    return '\\n'.join(full_text)"
   ]
  },
  {
   "cell_type": "code",
   "execution_count": 73,
   "metadata": {},
   "outputs": [],
   "source": [
    "app = Flask(__name__)\n",
    "\n",
    "@app.route('/')\n",
    "def index():\n",
    "    return render_template('upload.html')\n",
    "\n",
    "@app.route('/upload', methods=['POST'])\n",
    "def upload():\n",
    "    global vectorstore\n",
    "    file_paths = request.files.getlist('files')\n",
    "    documents = []\n",
    "\n",
    "    for file in file_paths:\n",
    "        if file.filename.endswith('.txt'):\n",
    "            content = file.read().decode('utf-8', 'ignore')\n",
    "            documents.append(Document(page_content=content, metadata={\"source\": \"local\"}))\n",
    "        elif file.filename.endswith('.docx'):\n",
    "            content = read_docx(file)\n",
    "            documents.append(Document(page_content=content, metadata={\"source\": \"local\"}))\n",
    "        else:\n",
    "            return render_template('error.html', message=\"Unsupported file format\")\n",
    "    \n",
    "    # Vectorisation des documents\n",
    "    text_splitter = CharacterTextSplitter(chunk_size=1500, chunk_overlap=200)\n",
    "    docs = text_splitter.split_documents(documents)\n",
    "    datastore_directory = './datastore'\n",
    "    vectorstore = Chroma.from_documents(documents=docs, embedding=oembed, persist_directory=datastore_directory)\n",
    "    vectorstore.persist(directory=datastore_directory)\n",
    "\n",
    "    return redirect(url_for('ask_question'))\n",
    "\n",
    "@app.route('/ask_question', methods=['GET', 'POST'])\n",
    "def ask_question():\n",
    "    global vectorstore\n",
    "    if request.method == 'POST':\n",
    "        question = request.form['question']\n",
    "        \n",
    "        # Utilisation du modèle pour répondre à la question\n",
    "        qachain = RetrievalQA.from_chain_type(ollama, retriever=vectorstore.as_retriever())\n",
    "        response = qachain({\"query\": question})\n",
    "    \n",
    "        # Obtenir la réponse textuelle\n",
    "        response_text = response[\"result\"]\n",
    "    \n",
    "        return render_template('responses.html', question=question, response=response)\n",
    "    \n",
    "    return render_template('ask_question.html')\n",
    "\n",
    "if __name__ == \"__main__\":\n",
    "    app.run(host='127.0.0.1', port=5002, debug=True)"
   ]
  },
  {
   "cell_type": "code",
   "execution_count": 74,
   "metadata": {},
   "outputs": [
    {
     "name": "stdout",
     "output_type": "stream",
     "text": [
      " * Serving Flask app '__main__'\n",
      " * Debug mode: on\n"
     ]
    },
    {
     "name": "stderr",
     "output_type": "stream",
     "text": [
      "WARNING: This is a development server. Do not use it in a production deployment. Use a production WSGI server instead.\n",
      " * Running on http://127.0.0.1:5002\n",
      "Press CTRL+C to quit\n",
      " * Restarting with stat\n"
     ]
    },
    {
     "ename": "SystemExit",
     "evalue": "1",
     "output_type": "error",
     "traceback": [
      "An exception has occurred, use %tb to see the full traceback.\n",
      "\u001b[1;31mSystemExit\u001b[0m\u001b[1;31m:\u001b[0m 1\n"
     ]
    }
   ],
   "source": [
    "if __name__ == \"__main__\":\n",
    "    app.run(host='127.0.0.1', port=5002, debug=True)"
   ]
  }
 ],
 "metadata": {
  "kernelspec": {
   "display_name": "venv",
   "language": "python",
   "name": "python3"
  },
  "language_info": {
   "codemirror_mode": {
    "name": "ipython",
    "version": 3
   },
   "file_extension": ".py",
   "mimetype": "text/x-python",
   "name": "python",
   "nbconvert_exporter": "python",
   "pygments_lexer": "ipython3",
   "version": "3.11.8"
  }
 },
 "nbformat": 4,
 "nbformat_minor": 2
}
